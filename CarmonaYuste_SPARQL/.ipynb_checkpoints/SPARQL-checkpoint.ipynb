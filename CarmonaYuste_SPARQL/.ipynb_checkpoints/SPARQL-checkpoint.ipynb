{
 "cells": [
  {
   "cell_type": "code",
   "execution_count": 4,
   "id": "d799f2d2-c143-43ff-bfde-dd585415f567",
   "metadata": {
    "scrolled": true
   },
   "outputs": [
    {
     "data": {
      "text/html": [
       "<div class=\"krn-spql\"><div class=\"magic\">Endpoint set to: http://34.34.143.215:7200/repositories/dbk</div><div class=\"magic\">Request format: ANY</div><div class=\"magic\">Display: svg</div></div>"
      ],
      "text/plain": [
       "Endpoint set to: http://34.34.143.215:7200/repositories/dbk\n",
       "Request format: ANY\n",
       "Display: svg\n"
      ]
     },
     "metadata": {},
     "output_type": "display_data"
    }
   ],
   "source": [
    "%endpoint http://34.34.143.215:7200/repositories/dbk\n",
    "%format any\n",
    "%display graph"
   ]
  },
  {
   "cell_type": "code",
   "execution_count": 5,
   "id": "107ad596-9a63-4594-bd52-8da7313658a1",
   "metadata": {},
   "outputs": [
    {
     "data": {
      "text/html": [
       "<div class=\"krn-spql\"><table><tr class=hdr><th>location</th></tr><tr class=odd><td class=val>San Telmo</td></tr><tr class=even><td class=val>Gugenheim</td></tr></table><div class=\"tinfo\">Total: 2, Shown: 2</div></div>"
      ]
     },
     "metadata": {},
     "output_type": "display_data"
    }
   ],
   "source": [
    "PREFIX rdfs: <http://www.w3.org/2000/01/rdf-schema#>\n",
    "    PREFIX foaf: <http://xmlns.com/foaf/0.1/>\n",
    "    \n",
    "    select ?location where {\n",
    "        ?person foaf:name \"Aitor Labajo\".\n",
    "        ?person <http://vocab.data.gov/def/drm#worksFor> ?museo .\n",
    "        ?museo rdfs:label ?location .\n",
    "    }"
   ]
  },
  {
   "cell_type": "code",
   "execution_count": 7,
   "id": "7757c04a-b3c2-40ce-b429-6dcbca96b7bc",
   "metadata": {},
   "outputs": [
    {
     "data": {
      "text/html": [
       "<div class=\"krn-spql\"><table><tr class=hdr><th>s</th>\n",
       "<th>p</th>\n",
       "<th>o</th>\n",
       "<th>museum</th>\n",
       "<th>g</th></tr><tr class=odd><td class=val><a href=\"http://gipuzkoa.eus/resource/aitor-labajo\" target=\"_other\">http://gipuzkoa.eus/resource/aitor-labajo</a></td>\n",
       "<td class=val><a href=\"http://www.w3.org/1999/02/22-rdf-syntax-ns#type\" target=\"_other\">http://www.w3.org/1999/02/22-rdf-syntax-ns#type</a></td>\n",
       "<td class=val><a href=\"http://xmlns.com/foaf/0.1/person\" target=\"_other\">http://xmlns.com/foaf/0.1/person</a></td>\n",
       "<td class=val><a href=\"http://gipuzkoa.eus/resource/san-telmo\" target=\"_other\">http://gipuzkoa.eus/resource/san-telmo</a></td>\n",
       "<td class=val><a href=\"http://data.abd.ehu.eus/museoak\" target=\"_other\">http://data.abd.ehu.eus/museoak</a></td></tr><tr class=even><td class=val><a href=\"http://gipuzkoa.eus/resource/aitor-labajo\" target=\"_other\">http://gipuzkoa.eus/resource/aitor-labajo</a></td>\n",
       "<td class=val><a href=\"http://www.w3.org/1999/02/22-rdf-syntax-ns#type\" target=\"_other\">http://www.w3.org/1999/02/22-rdf-syntax-ns#type</a></td>\n",
       "<td class=val><a href=\"http://xmlns.com/foaf/0.1/person\" target=\"_other\">http://xmlns.com/foaf/0.1/person</a></td>\n",
       "<td class=val><a href=\"http://gipuzkoa.eus/resource/gugenheim\" target=\"_other\">http://gipuzkoa.eus/resource/gugenheim</a></td>\n",
       "<td class=val><a href=\"http://data.abd.ehu.eus/museoak\" target=\"_other\">http://data.abd.ehu.eus/museoak</a></td></tr><tr class=odd><td class=val><a href=\"http://gipuzkoa.eus/resource/aitor-labajo\" target=\"_other\">http://gipuzkoa.eus/resource/aitor-labajo</a></td>\n",
       "<td class=val><a href=\"http://vocab.data.gov/def/drm#worksFor\" target=\"_other\">http://vocab.data.gov/def/drm#worksFor</a></td>\n",
       "<td class=val><a href=\"http://gipuzkoa.eus/resource/san-telmo\" target=\"_other\">http://gipuzkoa.eus/resource/san-telmo</a></td>\n",
       "<td class=val><a href=\"http://gipuzkoa.eus/resource/san-telmo\" target=\"_other\">http://gipuzkoa.eus/resource/san-telmo</a></td>\n",
       "<td class=val><a href=\"http://data.abd.ehu.eus/museoak\" target=\"_other\">http://data.abd.ehu.eus/museoak</a></td></tr><tr class=even><td class=val><a href=\"http://gipuzkoa.eus/resource/aitor-labajo\" target=\"_other\">http://gipuzkoa.eus/resource/aitor-labajo</a></td>\n",
       "<td class=val><a href=\"http://vocab.data.gov/def/drm#worksFor\" target=\"_other\">http://vocab.data.gov/def/drm#worksFor</a></td>\n",
       "<td class=val><a href=\"http://gipuzkoa.eus/resource/san-telmo\" target=\"_other\">http://gipuzkoa.eus/resource/san-telmo</a></td>\n",
       "<td class=val><a href=\"http://gipuzkoa.eus/resource/gugenheim\" target=\"_other\">http://gipuzkoa.eus/resource/gugenheim</a></td>\n",
       "<td class=val><a href=\"http://data.abd.ehu.eus/museoak\" target=\"_other\">http://data.abd.ehu.eus/museoak</a></td></tr><tr class=odd><td class=val><a href=\"http://gipuzkoa.eus/resource/aitor-labajo\" target=\"_other\">http://gipuzkoa.eus/resource/aitor-labajo</a></td>\n",
       "<td class=val><a href=\"http://vocab.data.gov/def/drm#worksFor\" target=\"_other\">http://vocab.data.gov/def/drm#worksFor</a></td>\n",
       "<td class=val><a href=\"http://gipuzkoa.eus/resource/gugenheim\" target=\"_other\">http://gipuzkoa.eus/resource/gugenheim</a></td>\n",
       "<td class=val><a href=\"http://gipuzkoa.eus/resource/san-telmo\" target=\"_other\">http://gipuzkoa.eus/resource/san-telmo</a></td>\n",
       "<td class=val><a href=\"http://data.abd.ehu.eus/museoak\" target=\"_other\">http://data.abd.ehu.eus/museoak</a></td></tr><tr class=even><td class=val><a href=\"http://gipuzkoa.eus/resource/aitor-labajo\" target=\"_other\">http://gipuzkoa.eus/resource/aitor-labajo</a></td>\n",
       "<td class=val><a href=\"http://vocab.data.gov/def/drm#worksFor\" target=\"_other\">http://vocab.data.gov/def/drm#worksFor</a></td>\n",
       "<td class=val><a href=\"http://gipuzkoa.eus/resource/gugenheim\" target=\"_other\">http://gipuzkoa.eus/resource/gugenheim</a></td>\n",
       "<td class=val><a href=\"http://gipuzkoa.eus/resource/gugenheim\" target=\"_other\">http://gipuzkoa.eus/resource/gugenheim</a></td>\n",
       "<td class=val><a href=\"http://data.abd.ehu.eus/museoak\" target=\"_other\">http://data.abd.ehu.eus/museoak</a></td></tr><tr class=odd><td class=val><a href=\"http://gipuzkoa.eus/resource/aitor-labajo\" target=\"_other\">http://gipuzkoa.eus/resource/aitor-labajo</a></td>\n",
       "<td class=val><a href=\"http://gipuzkoa.eus/prop/bizilekua\" target=\"_other\">http://gipuzkoa.eus/prop/bizilekua</a></td>\n",
       "<td class=val><a href=\"http://gipuzkoa.eus/resource/eibar\" target=\"_other\">http://gipuzkoa.eus/resource/eibar</a></td>\n",
       "<td class=val><a href=\"http://gipuzkoa.eus/resource/san-telmo\" target=\"_other\">http://gipuzkoa.eus/resource/san-telmo</a></td>\n",
       "<td class=val><a href=\"http://data.abd.ehu.eus/museoak\" target=\"_other\">http://data.abd.ehu.eus/museoak</a></td></tr><tr class=even><td class=val><a href=\"http://gipuzkoa.eus/resource/aitor-labajo\" target=\"_other\">http://gipuzkoa.eus/resource/aitor-labajo</a></td>\n",
       "<td class=val><a href=\"http://gipuzkoa.eus/prop/bizilekua\" target=\"_other\">http://gipuzkoa.eus/prop/bizilekua</a></td>\n",
       "<td class=val><a href=\"http://gipuzkoa.eus/resource/eibar\" target=\"_other\">http://gipuzkoa.eus/resource/eibar</a></td>\n",
       "<td class=val><a href=\"http://gipuzkoa.eus/resource/gugenheim\" target=\"_other\">http://gipuzkoa.eus/resource/gugenheim</a></td>\n",
       "<td class=val><a href=\"http://data.abd.ehu.eus/museoak\" target=\"_other\">http://data.abd.ehu.eus/museoak</a></td></tr><tr class=odd><td class=val><a href=\"http://gipuzkoa.eus/resource/aitor-labajo\" target=\"_other\">http://gipuzkoa.eus/resource/aitor-labajo</a></td>\n",
       "<td class=val><a href=\"http://xmlns.com/foaf/0.1/name\" target=\"_other\">http://xmlns.com/foaf/0.1/name</a></td>\n",
       "<td class=val>Aitor Labajo</td>\n",
       "<td class=val><a href=\"http://gipuzkoa.eus/resource/san-telmo\" target=\"_other\">http://gipuzkoa.eus/resource/san-telmo</a></td>\n",
       "<td class=val><a href=\"http://data.abd.ehu.eus/museoak\" target=\"_other\">http://data.abd.ehu.eus/museoak</a></td></tr><tr class=even><td class=val><a href=\"http://gipuzkoa.eus/resource/aitor-labajo\" target=\"_other\">http://gipuzkoa.eus/resource/aitor-labajo</a></td>\n",
       "<td class=val><a href=\"http://xmlns.com/foaf/0.1/name\" target=\"_other\">http://xmlns.com/foaf/0.1/name</a></td>\n",
       "<td class=val>Aitor Labajo</td>\n",
       "<td class=val><a href=\"http://gipuzkoa.eus/resource/gugenheim\" target=\"_other\">http://gipuzkoa.eus/resource/gugenheim</a></td>\n",
       "<td class=val><a href=\"http://data.abd.ehu.eus/museoak\" target=\"_other\">http://data.abd.ehu.eus/museoak</a></td></tr></table><div class=\"tinfo\">Total: 10, Shown: 10</div></div>"
      ]
     },
     "metadata": {},
     "output_type": "display_data"
    }
   ],
   "source": [
    "PREFIX foaf: <http://xmlns.com/foaf/0.1/>\n",
    "PREFIX rdf: <http://www.w3.org/1999/02/22-rdf-syntax-ns#>\n",
    "PREFIX dbo: <http://dbpedia.org/ontology/>\n",
    "\n",
    "SELECT ?s ?p ?o ?museum ?g WHERE {\n",
    "    GRAPH ?g {\n",
    "        ?museum rdf:type <http://dbpedia.org/ontology/museum> .\n",
    "        ?s <http://vocab.data.gov/def/drm#worksFor> ?museum .\n",
    "        ?s foaf:name \"Aitor Labajo\" .\n",
    "        ?s ?p ?o .\n",
    "    }\n",
    "}"
   ]
  },
  {
   "cell_type": "code",
   "execution_count": null,
   "id": "9f5fd11e-6083-47ae-8bce-7a15c093267e",
   "metadata": {},
   "outputs": [],
   "source": [
    "Hemendik aurrera egindako probak, baina ez dute funtzionatzen"
   ]
  },
  {
   "cell_type": "code",
   "execution_count": null,
   "id": "535c3909-c945-400c-a74c-63422fc61e24",
   "metadata": {},
   "outputs": [],
   "source": [
    "pip install yfiles_jupyter_graphs_for_sparql==0.9.0rc1"
   ]
  },
  {
   "cell_type": "code",
   "execution_count": 2,
   "id": "bf670dd7-0e04-4113-b6a4-8f85feb1a119",
   "metadata": {},
   "outputs": [
    {
     "data": {
      "text/html": [
       "<div class=\"krn-spql\"><div class=\"krn-error\"><span class=\"title\">Error:</span> SPARQL error: QueryBadFormed: A bad request has been sent to the endpoint: probably the SPARQL query is badly formed. <br/><br/>Response:<br/>b'MALFORMED QUERY: Encountered &quot; &quot;from&quot; &quot;from &quot;&quot; at line 1, column 1.\\nWas expecting one of:\\n    &quot;base&quot; ...\\n    &quot;prefix&quot; ...\\n    &quot;select&quot; ...\\n    &quot;construct&quot; ...\\n    &quot;describe&quot; ...\\n    &quot;ask&quot; ...\\n    '</div></div>"
      ],
      "text/plain": [
       "Error: SPARQL error: QueryBadFormed: A bad request has been sent to the endpoint: probably the SPARQL query is badly formed. \n",
       "\n",
       "Response:\n",
       "b'MALFORMED QUERY: Encountered \" \"from\" \"from \"\" at line 1, column 1.\\nWas expecting one of:\\n    \"base\" ...\\n    \"prefix\" ...\\n    \"select\" ...\\n    \"construct\" ...\\n    \"describe\" ...\\n    \"ask\" ...\\n    '"
      ]
     },
     "metadata": {},
     "output_type": "display_data"
    }
   ],
   "source": [
    "from SPARQLWrapper import SPARQLWrapper\n",
    "from yfiles_jupyter_graphs_for_sparql import SparqlGraphWidget\n",
    "\n",
    "g = SparqlGraphWidget(wrapper=SPARQLWrapper(\"http://dbpedia.org/sparql\"))\n",
    "\n",
    "q = \"\"\"\n",
    "    PREFIX rdfs: <http://www.w3.org/2000/01/rdf-schema#>\n",
    "    PREFIX foaf: <http://xmlns.com/foaf/0.1/>\n",
    "    \n",
    "    select ?location where {\n",
    "        ?person foaf:name \"Aitor Labajo\".\n",
    "        ?person <http://vocab.data.gov/def/drm#worksFor> ?museo .\n",
    "        ?museo rdfs:label ?location .\n",
    "    }\n",
    "    \"\"\"\n",
    "g.show_query(q)"
   ]
  },
  {
   "cell_type": "code",
   "execution_count": null,
   "id": "01566cb6-675b-47ed-8748-c2d601571d7e",
   "metadata": {},
   "outputs": [],
   "source": []
  }
 ],
 "metadata": {
  "kernelspec": {
   "display_name": "SPARQL",
   "language": "sparql",
   "name": "sparql"
  },
  "language_info": {
   "codemirror_mode": {
    "name": "sparql"
   },
   "mimetype": "application/sparql-query",
   "name": "sparql",
   "pygments_lexer": "sparql-nb"
  }
 },
 "nbformat": 4,
 "nbformat_minor": 5
}
